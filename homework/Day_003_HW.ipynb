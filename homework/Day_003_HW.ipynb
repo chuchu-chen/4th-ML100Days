{
 "cells": [
  {
   "cell_type": "code",
   "execution_count": null,
   "metadata": {
    "collapsed": true
   },
   "outputs": [],
   "source": [
    "#底下幫同學整理幾間知名企業的 blog 或機器學習網站 (自行搜尋也可)，這些網站都會整理最新的機器學習專案或者是技術文章，請挑選一篇文章閱讀並試著回答\n",
    "\n",
    "專案的目標？ (要解決什麼問題）\n",
    "使用的技術是？ (只需知道名稱即可，例如：使用 CNN 卷積神經網路做影像分類)\n",
    "資料來源？\n",
    "\n",
    "1.專案目標       \n",
    "車載檢測識別系統\n",
    "2.使用的技術是？\n",
    "資料庫圖像處理\n",
    "3.資料來源？      \n",
    "GitHub     \n",
    "\n",
    "(Google AI blog\n",
    "Facebook Research blog\n",
    "Apple machine learning journal\n",
    "機器之心\n",
    "雷鋒網)"
   ]
  }
 ],
 "metadata": {
  "kernelspec": {
   "display_name": "Python 3",
   "language": "python",
   "name": "python3"
  },
  "language_info": {
   "codemirror_mode": {
    "name": "ipython",
    "version": 3
   },
   "file_extension": ".py",
   "mimetype": "text/x-python",
   "name": "python",
   "nbconvert_exporter": "python",
   "pygments_lexer": "ipython3",
   "version": "3.6.3"
  }
 },
 "nbformat": 4,
 "nbformat_minor": 2
}
